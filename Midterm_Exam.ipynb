{
  "nbformat": 4,
  "nbformat_minor": 0,
  "metadata": {
    "colab": {
      "name": "Midterm Exam",
      "provenance": [],
      "authorship_tag": "ABX9TyPp4EGqgRVtJd8TXwLuQatm",
      "include_colab_link": true
    },
    "kernelspec": {
      "name": "python3",
      "display_name": "Python 3"
    },
    "language_info": {
      "name": "python"
    }
  },
  "cells": [
    {
      "cell_type": "markdown",
      "metadata": {
        "id": "view-in-github",
        "colab_type": "text"
      },
      "source": [
        "<a href=\"https://colab.research.google.com/github/Drich05/Linear-Algebra-58019/blob/main/Midterm_Exam.ipynb\" target=\"_parent\"><img src=\"https://colab.research.google.com/assets/colab-badge.svg\" alt=\"Open In Colab\"/></a>"
      ]
    },
    {
      "cell_type": "markdown",
      "metadata": {
        "id": "Wf-l97le--8s"
      },
      "source": [
        "NUMBER 1"
      ]
    },
    {
      "cell_type": "code",
      "metadata": {
        "id": "qBMctZJQ--15"
      },
      "source": [
        ""
      ],
      "execution_count": null,
      "outputs": []
    },
    {
      "cell_type": "markdown",
      "metadata": {
        "id": "qZ43-c6m-6-i"
      },
      "source": [
        "NUMBER 2"
      ]
    },
    {
      "cell_type": "code",
      "metadata": {
        "id": "I5EUdqAa-580"
      },
      "source": [
        ""
      ],
      "execution_count": null,
      "outputs": []
    },
    {
      "cell_type": "markdown",
      "metadata": {
        "id": "ZEp0vs4l-2-q"
      },
      "source": [
        "NUMBER 3"
      ]
    },
    {
      "cell_type": "code",
      "metadata": {
        "id": "KRzOzgen-1fw"
      },
      "source": [
        ""
      ],
      "execution_count": null,
      "outputs": []
    },
    {
      "cell_type": "markdown",
      "metadata": {
        "id": "6r-X5Lze-yT8"
      },
      "source": [
        "NUMBER 4\n"
      ]
    },
    {
      "cell_type": "code",
      "metadata": {
        "id": "JHlYfliu-sgQ"
      },
      "source": [
        ""
      ],
      "execution_count": null,
      "outputs": []
    },
    {
      "cell_type": "markdown",
      "metadata": {
        "id": "P2sTF-8M-oa-"
      },
      "source": [
        "NUMBER 5"
      ]
    },
    {
      "cell_type": "code",
      "metadata": {
        "id": "NvVrUc6a8xg6"
      },
      "source": [
        ""
      ],
      "execution_count": null,
      "outputs": []
    },
    {
      "cell_type": "markdown",
      "metadata": {
        "id": "PKlg22K-8qhU"
      },
      "source": [
        "NUMBER 6"
      ]
    },
    {
      "cell_type": "code",
      "metadata": {
        "colab": {
          "base_uri": "https://localhost:8080/"
        },
        "id": "jY2rzsF94jc1",
        "outputId": "184d84f3-1e57-40fc-d7ff-014dcce6dcd7"
      },
      "source": [
        "import numpy as np\n",
        "\n",
        "a = np.array([[5,4,1],[10,9,4 ],[10,13,15]])\n",
        "inv_c= np.linalg.inv(c)\n",
        "print(c)\n",
        "print()\n",
        "print(inv_c)\n",
        "\n",
        "b = np.array([[3.4],[8.8],[19.2]])\n",
        "\n",
        "x = np.dot(inv_c, b)\n",
        "print()\n",
        "print(x)\n",
        "\n",
        "z = np.dot (c,x)\n",
        "print()\n",
        "print(z)"
      ],
      "execution_count": 8,
      "outputs": [
        {
          "output_type": "stream",
          "name": "stdout",
          "text": [
            "[[ 5  4  1]\n",
            " [10  9  4]\n",
            " [10 13 15]]\n",
            "\n",
            "[[ 5.53333333 -3.13333333  0.46666667]\n",
            " [-7.33333333  4.33333333 -0.66666667]\n",
            " [ 2.66666667 -1.66666667  0.33333333]]\n",
            "\n",
            "[[0.2]\n",
            " [0.4]\n",
            " [0.8]]\n",
            "\n",
            "[[ 3.4]\n",
            " [ 8.8]\n",
            " [19.2]]\n"
          ]
        }
      ]
    }
  ]
}