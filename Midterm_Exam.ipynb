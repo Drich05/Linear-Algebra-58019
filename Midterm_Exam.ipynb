{
  "nbformat": 4,
  "nbformat_minor": 0,
  "metadata": {
    "colab": {
      "name": "Midterm Exam",
      "provenance": [],
      "authorship_tag": "ABX9TyMZ4yqMIbQkwElqSxE3CsbA",
      "include_colab_link": true
    },
    "kernelspec": {
      "name": "python3",
      "display_name": "Python 3"
    },
    "language_info": {
      "name": "python"
    }
  },
  "cells": [
    {
      "cell_type": "markdown",
      "metadata": {
        "id": "view-in-github",
        "colab_type": "text"
      },
      "source": [
        "<a href=\"https://colab.research.google.com/github/Drich05/Linear-Algebra-58019/blob/main/Midterm_Exam.ipynb\" target=\"_parent\"><img src=\"https://colab.research.google.com/assets/colab-badge.svg\" alt=\"Open In Colab\"/></a>"
      ]
    },
    {
      "cell_type": "markdown",
      "metadata": {
        "id": "Wf-l97le--8s"
      },
      "source": [
        "NUMBER 1"
      ]
    },
    {
      "cell_type": "code",
      "metadata": {
        "colab": {
          "base_uri": "https://localhost:8080/"
        },
        "id": "qBMctZJQ--15",
        "outputId": "93ee0b67-2afa-4105-a8b3-53ada20d5d38"
      },
      "source": [
        "import numpy as np\n",
        "\n",
        "#square matrix with same length and width 5x5\n",
        "Squarematrix = np.array([[1,2,3,4,5],[2,4,6,8,10],[3,6,9,12,15],[4,8,12,16,20],[5,10,15,20,25]])\n",
        "print(\"Squarematirix 5x5\")\n",
        "print(Squarematrix)"
      ],
      "execution_count": 11,
      "outputs": [
        {
          "output_type": "stream",
          "name": "stdout",
          "text": [
            "Squarematirix 5x5\n",
            "[[ 1  2  3  4  5]\n",
            " [ 2  4  6  8 10]\n",
            " [ 3  6  9 12 15]\n",
            " [ 4  8 12 16 20]\n",
            " [ 5 10 15 20 25]]\n"
          ]
        }
      ]
    },
    {
      "cell_type": "markdown",
      "metadata": {
        "id": "qZ43-c6m-6-i"
      },
      "source": [
        "NUMBER 2"
      ]
    },
    {
      "cell_type": "code",
      "metadata": {
        "colab": {
          "base_uri": "https://localhost:8080/"
        },
        "id": "I5EUdqAa-580",
        "outputId": "1245b665-2ed5-43e5-acdb-4bc03e7e0fa9"
      },
      "source": [
        "import numpy as np\n",
        "\n",
        "C = np.triu([[1,2,3,4,5],[6,7,8,9,10],[11,12,13,14,15],[16,17,18,19,20],[21,22,23,24,25]])\n",
        "print(C)"
      ],
      "execution_count": 12,
      "outputs": [
        {
          "output_type": "stream",
          "name": "stdout",
          "text": [
            "[[ 1  2  3  4  5]\n",
            " [ 0  7  8  9 10]\n",
            " [ 0  0 13 14 15]\n",
            " [ 0  0  0 19 20]\n",
            " [ 0  0  0  0 25]]\n"
          ]
        }
      ]
    },
    {
      "cell_type": "markdown",
      "metadata": {
        "id": "ZEp0vs4l-2-q"
      },
      "source": [
        "NUMBER 3"
      ]
    },
    {
      "cell_type": "code",
      "metadata": {
        "colab": {
          "base_uri": "https://localhost:8080/"
        },
        "id": "KRzOzgen-1fw",
        "outputId": "58940e30-0329-404d-a416-301e7079ec53"
      },
      "source": [
        "import numpy as np\n",
        "\n",
        "a = np.array([[1,2,3],[4,5,6],[7,8,9]])\n",
        "print(a)\n",
        "\n",
        "b = np.transpose(a)\n",
        "print()\n",
        "print(b)\n",
        "\n",
        "c = np.matmul(a,b)\n",
        "print()\n",
        "print(c)"
      ],
      "execution_count": 17,
      "outputs": [
        {
          "output_type": "stream",
          "name": "stdout",
          "text": [
            "[[1 2 3]\n",
            " [4 5 6]\n",
            " [7 8 9]]\n",
            "\n",
            "[[1 4 7]\n",
            " [2 5 8]\n",
            " [3 6 9]]\n",
            "\n",
            "[[ 14  32  50]\n",
            " [ 32  77 122]\n",
            " [ 50 122 194]]\n"
          ]
        }
      ]
    },
    {
      "cell_type": "markdown",
      "metadata": {
        "id": "6r-X5Lze-yT8"
      },
      "source": [
        "NUMBER 4\n"
      ]
    },
    {
      "cell_type": "code",
      "metadata": {
        "colab": {
          "base_uri": "https://localhost:8080/"
        },
        "id": "JHlYfliu-sgQ",
        "outputId": "a54b42d1-2db6-4950-85db-eb18c4b68205"
      },
      "source": [
        "import numpy as np \n",
        "\n",
        "C = np.array([[1,2,3],[2,3,3],[3,4,-2]])\n",
        "print(C)\n",
        "invC = np.linalg.inv(C)\n",
        "print()\n",
        "print(\"Inverse of Matrix C:\")\n",
        "print(invC)\n"
      ],
      "execution_count": 13,
      "outputs": [
        {
          "output_type": "stream",
          "name": "stdout",
          "text": [
            "[[ 1  2  3]\n",
            " [ 2  3  3]\n",
            " [ 3  4 -2]]\n",
            "\n",
            "Inverse of Matrix C:\n",
            "[[-3.6  3.2 -0.6]\n",
            " [ 2.6 -2.2  0.6]\n",
            " [-0.2  0.4 -0.2]]\n"
          ]
        }
      ]
    },
    {
      "cell_type": "markdown",
      "metadata": {
        "id": "P2sTF-8M-oa-"
      },
      "source": [
        "NUMBER 5"
      ]
    },
    {
      "cell_type": "code",
      "metadata": {
        "colab": {
          "base_uri": "https://localhost:8080/"
        },
        "id": "NvVrUc6a8xg6",
        "outputId": "bdd1779a-ca7c-47cb-e924-b1a9dc9a4d0b"
      },
      "source": [
        "import numpy as np\n",
        "#Matrix 3x3\n",
        "C = np.array([[1,2,3],\n",
        "              [2,3,3],\n",
        "              [3,4,-2]])\n",
        "#to get the determinant of the matrix \n",
        "detC = np.linalg.det(C)\n",
        "\n",
        "print(\"The determinant: \\n\")\n",
        "print(int(detC))\n",
        "\n",
        "\n"
      ],
      "execution_count": 16,
      "outputs": [
        {
          "output_type": "stream",
          "name": "stdout",
          "text": [
            "The determinant: \n",
            "\n",
            "5\n"
          ]
        }
      ]
    },
    {
      "cell_type": "markdown",
      "metadata": {
        "id": "PKlg22K-8qhU"
      },
      "source": [
        "NUMBER 6"
      ]
    },
    {
      "cell_type": "code",
      "metadata": {
        "colab": {
          "base_uri": "https://localhost:8080/"
        },
        "id": "jY2rzsF94jc1",
        "outputId": "184d84f3-1e57-40fc-d7ff-014dcce6dcd7"
      },
      "source": [
        "import numpy as np\n",
        "\n",
        "a = np.array([[5,4,1],[10,9,4 ],[10,13,15]])\n",
        "inv_c= np.linalg.inv(c)\n",
        "print(c)\n",
        "print()\n",
        "print(inv_c)\n",
        "\n",
        "b = np.array([[3.4],[8.8],[19.2]])\n",
        "\n",
        "x = np.dot(inv_c, b)\n",
        "print()\n",
        "print(x)\n",
        "\n",
        "z = np.dot (c,x)\n",
        "print()\n",
        "print(z)"
      ],
      "execution_count": 8,
      "outputs": [
        {
          "output_type": "stream",
          "name": "stdout",
          "text": [
            "[[ 5  4  1]\n",
            " [10  9  4]\n",
            " [10 13 15]]\n",
            "\n",
            "[[ 5.53333333 -3.13333333  0.46666667]\n",
            " [-7.33333333  4.33333333 -0.66666667]\n",
            " [ 2.66666667 -1.66666667  0.33333333]]\n",
            "\n",
            "[[0.2]\n",
            " [0.4]\n",
            " [0.8]]\n",
            "\n",
            "[[ 3.4]\n",
            " [ 8.8]\n",
            " [19.2]]\n"
          ]
        }
      ]
    }
  ]
}