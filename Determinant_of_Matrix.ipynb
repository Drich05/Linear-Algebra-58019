{
  "nbformat": 4,
  "nbformat_minor": 0,
  "metadata": {
    "colab": {
      "name": "Determinant of Matrix",
      "provenance": [],
      "authorship_tag": "ABX9TyNp6A6SzGxPOcTeI56+2k7R",
      "include_colab_link": true
    },
    "kernelspec": {
      "name": "python3",
      "display_name": "Python 3"
    },
    "language_info": {
      "name": "python"
    }
  },
  "cells": [
    {
      "cell_type": "markdown",
      "metadata": {
        "id": "view-in-github",
        "colab_type": "text"
      },
      "source": [
        "<a href=\"https://colab.research.google.com/github/Drich05/Linear-Algebra-58019/blob/main/Determinant_of_Matrix.ipynb\" target=\"_parent\"><img src=\"https://colab.research.google.com/assets/colab-badge.svg\" alt=\"Open In Colab\"/></a>"
      ]
    },
    {
      "cell_type": "code",
      "metadata": {
        "colab": {
          "base_uri": "https://localhost:8080/"
        },
        "id": "nJKsH_PjAr41",
        "outputId": "8fc9ed94-21fc-42da-94f1-bc819a04c989"
      },
      "source": [
        "import numpy as np\n",
        "A = np.array ([[1,2,-1],[4,6,-2],[-1,3,3]])\n",
        "print(A)\n",
        "print(round(np.linalg.det(A)))"
      ],
      "execution_count": 1,
      "outputs": [
        {
          "output_type": "stream",
          "name": "stdout",
          "text": [
            "[[ 1  2 -1]\n",
            " [ 4  6 -2]\n",
            " [-1  3  3]]\n",
            "-14\n"
          ]
        }
      ]
    },
    {
      "cell_type": "code",
      "metadata": {
        "colab": {
          "base_uri": "https://localhost:8080/"
        },
        "id": "UtaY8C_XDekt",
        "outputId": "7f97c7c8-0c53-433c-dd70-fe3ffc76f2b2"
      },
      "source": [
        "import numpy as np\n",
        "A = np.array ([[1,2,-1],[4,6,-2],[-1,3,3]])\n",
        "print(A)\n",
        "print(round(np.linalg.det(A)))"
      ],
      "execution_count": 2,
      "outputs": [
        {
          "output_type": "stream",
          "name": "stdout",
          "text": [
            "[[ 1  2 -1]\n",
            " [ 4  6 -2]\n",
            " [-1  3  3]]\n",
            "-14\n"
          ]
        }
      ]
    }
  ]
}