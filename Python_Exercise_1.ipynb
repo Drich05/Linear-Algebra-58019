{
  "nbformat": 4,
  "nbformat_minor": 0,
  "metadata": {
    "colab": {
      "name": "Python Exercise#1",
      "provenance": [],
      "authorship_tag": "ABX9TyMQiEcgHBD9LnhZu0ArV79B",
      "include_colab_link": true
    },
    "kernelspec": {
      "name": "python3",
      "display_name": "Python 3"
    },
    "language_info": {
      "name": "python"
    }
  },
  "cells": [
    {
      "cell_type": "markdown",
      "metadata": {
        "id": "view-in-github",
        "colab_type": "text"
      },
      "source": [
        "<a href=\"https://colab.research.google.com/github/Drich05/Linear-Algebra-58019/blob/main/Python_Exercise_1.ipynb\" target=\"_parent\"><img src=\"https://colab.research.google.com/assets/colab-badge.svg\" alt=\"Open In Colab\"/></a>"
      ]
    },
    {
      "cell_type": "markdown",
      "metadata": {
        "id": "8TaQB8a5BU4D"
      },
      "source": [
        "Matrix and Its Operations"
      ]
    },
    {
      "cell_type": "code",
      "metadata": {
        "colab": {
          "base_uri": "https://localhost:8080/"
        },
        "id": "Bxvol-LI9EEK",
        "outputId": "70348ddd-191b-466f-a952-b74df07b8ceb"
      },
      "source": [
        "import numpy as np\n",
        "a = np.array([[-5,0],[4,1]])\n",
        "b = np.array([[6,-3],[2,3]])\n",
        "print(a+b)\n"
      ],
      "execution_count": 1,
      "outputs": [
        {
          "output_type": "stream",
          "name": "stdout",
          "text": [
            "[[ 1 -3]\n",
            " [ 6  4]]\n"
          ]
        }
      ]
    },
    {
      "cell_type": "code",
      "metadata": {
        "colab": {
          "base_uri": "https://localhost:8080/"
        },
        "id": "C6q5GzPY-jZM",
        "outputId": "0503e0f9-96bf-40e7-bca0-ada7d53ed3cb"
      },
      "source": [
        "import numpy as np\n",
        "a = np.array([[-5,0],[4,1]])\n",
        "b = np.array([[6,-3],[2,3]])\n",
        "print(b-a)"
      ],
      "execution_count": 2,
      "outputs": [
        {
          "output_type": "stream",
          "name": "stdout",
          "text": [
            "[[11 -3]\n",
            " [-2  2]]\n"
          ]
        }
      ]
    },
    {
      "cell_type": "code",
      "metadata": {
        "colab": {
          "base_uri": "https://localhost:8080/"
        },
        "id": "hqWjx8BD_ITc",
        "outputId": "6cfa162e-c707-409b-83e6-725c6e785278"
      },
      "source": [
        "import numpy as np\n",
        "a = np.array([[-5,0],[4,1]])\n",
        "b = np.array([[6,-3],[2,3]])\n",
        "print(a-b)"
      ],
      "execution_count": 3,
      "outputs": [
        {
          "output_type": "stream",
          "name": "stdout",
          "text": [
            "[[-11   3]\n",
            " [  2  -2]]\n"
          ]
        }
      ]
    },
    {
      "cell_type": "code",
      "metadata": {
        "id": "3QR1ExLn_06b"
      },
      "source": [
        ""
      ],
      "execution_count": null,
      "outputs": []
    }
  ]
}