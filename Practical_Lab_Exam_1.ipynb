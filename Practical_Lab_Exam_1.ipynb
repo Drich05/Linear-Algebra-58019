{
  "nbformat": 4,
  "nbformat_minor": 0,
  "metadata": {
    "colab": {
      "name": "Practical Lab Exam 1",
      "provenance": [],
      "authorship_tag": "ABX9TyNmJUkyIgkdbDmMs23kLPWN",
      "include_colab_link": true
    },
    "kernelspec": {
      "name": "python3",
      "display_name": "Python 3"
    },
    "language_info": {
      "name": "python"
    }
  },
  "cells": [
    {
      "cell_type": "markdown",
      "metadata": {
        "id": "view-in-github",
        "colab_type": "text"
      },
      "source": [
        "<a href=\"https://colab.research.google.com/github/Drich05/Linear-Algebra-58019/blob/main/Practical_Lab_Exam_1.ipynb\" target=\"_parent\"><img src=\"https://colab.research.google.com/assets/colab-badge.svg\" alt=\"Open In Colab\"/></a>"
      ]
    },
    {
      "cell_type": "code",
      "metadata": {
        "colab": {
          "base_uri": "https://localhost:8080/"
        },
        "id": "KAChjpWPoLmd",
        "outputId": "cb01ac42-ca64-49bf-93f2-668fcb419515"
      },
      "source": [
        "import numpy as np\n",
        "A = np.array([[1,2,3],[4,5,6]])\n",
        "B = np.array([[1,2,],[3,4,],[5,6,]])\n",
        "C = np.array([[1,2,3],[4,5,6],[7,8,9]])\n",
        "D = np.array([[1,2,],[3,4,]])\n",
        "print(A)\n",
        "print()\n",
        "print(B)\n",
        "print()\n",
        "print(C)\n",
        "print()\n",
        "print(D)\n",
        "print()\n",
        "dot = np.dot(A,B)\n",
        "print(dot)\n",
        "print()\n",
        "print(D+D)\n",
        "print()"
      ],
      "execution_count": 2,
      "outputs": [
        {
          "output_type": "stream",
          "name": "stdout",
          "text": [
            "[[1 2 3]\n",
            " [4 5 6]]\n",
            "\n",
            "[[1 2]\n",
            " [3 4]\n",
            " [5 6]]\n",
            "\n",
            "[[1 2 3]\n",
            " [4 5 6]\n",
            " [7 8 9]]\n",
            "\n",
            "[[1 2]\n",
            " [3 4]]\n",
            "\n",
            "[[22 28]\n",
            " [49 64]]\n",
            "\n",
            "[[2 4]\n",
            " [6 8]]\n",
            "\n"
          ]
        }
      ]
    },
    {
      "cell_type": "code",
      "metadata": {
        "colab": {
          "base_uri": "https://localhost:8080/"
        },
        "id": "wODFtjrhvQRd",
        "outputId": "7b31cf12-cee0-4d18-b468-a85e9ea7eb9f"
      },
      "source": [
        "C = np.array([[1,2,3],[4,5,6],[7,8,9]])\n",
        "S = 2*C\n",
        "S"
      ],
      "execution_count": 4,
      "outputs": [
        {
          "output_type": "execute_result",
          "data": {
            "text/plain": [
              "array([[ 2,  4,  6],\n",
              "       [ 8, 10, 12],\n",
              "       [14, 16, 18]])"
            ]
          },
          "metadata": {},
          "execution_count": 4
        }
      ]
    },
    {
      "cell_type": "code",
      "metadata": {
        "colab": {
          "base_uri": "https://localhost:8080/"
        },
        "id": "Vx8Gu_Vuw0cN",
        "outputId": "08161e48-7796-4a51-b064-a2ce44e25a49"
      },
      "source": [
        "import numpy as np\n",
        "O = np.array([5,3,-1])\n",
        "\n",
        "print(O)\n",
        "print()\n",
        "print('Type:', type(O))\n",
        "print('Shape:', O.shape)\n",
        "print('Dimension:', O.ndim)"
      ],
      "execution_count": 6,
      "outputs": [
        {
          "output_type": "stream",
          "name": "stdout",
          "text": [
            "[ 5  3 -1]\n",
            "\n",
            "Type: <class 'numpy.ndarray'>\n",
            "Shape: (3,)\n",
            "Dimension: 1\n"
          ]
        }
      ]
    }
  ]
}